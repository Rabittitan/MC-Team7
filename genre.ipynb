{
  "nbformat": 4,
  "nbformat_minor": 0,
  "metadata": {
    "colab": {
      "private_outputs": true,
      "provenance": [],
      "cell_execution_strategy": "setup",
      "toc_visible": true,
      "mount_file_id": "1Dc7FLyjuJEdgqhJ1ymuOZGrw52lFYWTf",
      "authorship_tag": "ABX9TyOcCWxtMCa7JAlH+t44WinS",
      "include_colab_link": true
    },
    "kernelspec": {
      "name": "python3",
      "display_name": "Python 3"
    },
    "language_info": {
      "name": "python"
    }
  },
  "cells": [
    {
      "cell_type": "markdown",
      "metadata": {
        "id": "view-in-github",
        "colab_type": "text"
      },
      "source": [
        "<a href=\"https://colab.research.google.com/github/Rabittitan/MC-Team7/blob/main/genre.ipynb\" target=\"_parent\"><img src=\"https://colab.research.google.com/assets/colab-badge.svg\" alt=\"Open In Colab\"/></a>"
      ]
    },
    {
      "cell_type": "markdown",
      "source": [
        "# Khai Báo Thư Viện\n"
      ],
      "metadata": {
        "id": "y7aupNH3IQFK"
      }
    },
    {
      "cell_type": "code",
      "execution_count": null,
      "metadata": {
        "id": "yOkX3YUll0rS"
      },
      "outputs": [],
      "source": [
        "import numpy as np\n",
        "import pandas as pd\n",
        "import seaborn as sns\n",
        "import matplotlib.pyplot as plt\n",
        "from sklearn.preprocessing import MinMaxScaler\n",
        "from sklearn.model_selection import train_test_split\n",
        "from sklearn.preprocessing import LabelEncoder\n",
        "from sklearn.model_selection import GridSearchCV\n",
        "from sklearn.linear_model import LinearRegression\n",
        "from sklearn.metrics import mean_squared_error\n",
        "from sklearn.preprocessing import StandardScaler\n",
        "from sklearn.tree import DecisionTreeClassifier,plot_tree\n",
        "from sklearn.metrics import accuracy_score, confusion_matrix\n",
        "from sklearn.ensemble import RandomForestClassifier,  GradientBoostingClassifier\n",
        "\n",
        "from sklearn.naive_bayes import MultinomialNB\n",
        "from sklearn.linear_model import LogisticRegression\n",
        "from sklearn.metrics import classification_report\n",
        "\n"
      ]
    },
    {
      "cell_type": "markdown",
      "source": [
        "# Thông Tin Dữ liệu"
      ],
      "metadata": {
        "id": "wlXdh0V6IfPV"
      }
    },
    {
      "cell_type": "markdown",
      "source": [
        "## Truyền Vào Tệp Dữ Liệu"
      ],
      "metadata": {
        "id": "_7PQW1HBIwgE"
      }
    },
    {
      "cell_type": "code",
      "source": [
        "df = pd.read_csv(\"/content/spotify_songs.csv\")\n",
        "df.head()"
      ],
      "metadata": {
        "id": "u3WJ1AEeoBW5"
      },
      "execution_count": null,
      "outputs": []
    },
    {
      "cell_type": "markdown",
      "source": [
        "## Kiểm Tra Dữ Liệu và Làm Sạch"
      ],
      "metadata": {
        "id": "anS1xD8gJdpD"
      }
    },
    {
      "cell_type": "code",
      "source": [
        "df.info()"
      ],
      "metadata": {
        "id": "03TfzrmLvxTs"
      },
      "execution_count": null,
      "outputs": []
    },
    {
      "cell_type": "code",
      "source": [
        "df.describe()"
      ],
      "metadata": {
        "id": "X4ZAMb7qv0BH"
      },
      "execution_count": null,
      "outputs": []
    },
    {
      "cell_type": "code",
      "source": [
        "df.isnull().sum()"
      ],
      "metadata": {
        "id": "gDyAzr8Iv1bV"
      },
      "execution_count": null,
      "outputs": []
    },
    {
      "cell_type": "code",
      "source": [
        "#xu ly du lieu null\n",
        "df_cleaned = df.dropna()\n",
        "\n",
        "print(df_cleaned.isnull().sum())"
      ],
      "metadata": {
        "id": "tMwGFgJ_v3sP"
      },
      "execution_count": null,
      "outputs": []
    },
    {
      "cell_type": "code",
      "source": [
        "# Xóa các cột cụ không cần thiết cho mô hình đánh giá trực tiếp trên df\n",
        "columns_to_drop = ['track_id','playlist_name','playlist_subgenre' ,'track_name', 'track_artist', 'track_popularity', 'track_album_id', 'track_album_name', 'track_album_release_date', 'playlist_id']\n",
        "df.drop(columns=columns_to_drop, axis=1, inplace=True)\n",
        "\n",
        "# Kiểm tra lại dữ liệu sau khi xóa các cột\n",
        "df.head()\n"
      ],
      "metadata": {
        "id": "wi9Bd-Jii-Fy"
      },
      "execution_count": null,
      "outputs": []
    },
    {
      "cell_type": "code",
      "source": [
        "df['playlist_genre'].value_counts()"
      ],
      "metadata": {
        "id": "v1j5s0B5tEm6"
      },
      "execution_count": null,
      "outputs": []
    },
    {
      "cell_type": "markdown",
      "source": [
        "chọn playlist_genre là target vì vậy cần phải chuyển string sang int\n",
        "\n",
        "---\n",
        "\n",
        "thực hiện việc ánh xạ (mapping) giữa các giá trị chuỗi trong cột 'playlist_genre' của DataFrame (df) và các giá trị số tương ứng theo một bảng ánh xạ được định nghĩa trước đó\n"
      ],
      "metadata": {
        "id": "g7HJCFbnJ9_i"
      }
    },
    {
      "cell_type": "code",
      "source": [
        " # Định nghĩa mapping giữa chuỗi và số\n",
        "genre_mapping = {'pop': 0, 'rap': 1, 'rock': 2, 'latin': 3, 'r&b': 4, 'edm': 5}\n",
        "\n",
        "# Áp dụng map cho cột 'playlist_genre'\n",
        "df['playlist_genre'] = df['playlist_genre'].map(genre_mapping)\n",
        "\n",
        "# Kiểm tra lại kiểu dữ liệu\n",
        "print(df['playlist_genre'].dtype)\n"
      ],
      "metadata": {
        "id": "CwUd2B12QW3X"
      },
      "execution_count": null,
      "outputs": []
    },
    {
      "cell_type": "code",
      "source": [
        "\n",
        "# Kiểm tra sự đồng đều dữ liệu\n",
        "plt.figure(figsize=(10, 6))\n",
        "sns.countplot(x='playlist_genre', data=df, palette='viridis')\n",
        "\n",
        "# Thêm tên thể loại vào biểu đồ\n",
        "plt.title('Phân phối của các lớp')\n",
        "plt.xlabel('Thể loại nhạc')\n",
        "plt.ylabel('Số lượng mẫu')\n",
        "\n",
        "# Lấy tên thể loại từ từ điển ngược lại\n",
        "genre_reverse_mapping = {v: k for k, v in genre_mapping.items()}\n",
        "labels = [genre_reverse_mapping[i] for i in range(len(genre_mapping))]\n",
        "\n",
        "# Hiển thị tên thể loại trên trục x\n",
        "plt.xticks(ticks=range(len(genre_mapping)), labels=labels)\n",
        "plt.show()"
      ],
      "metadata": {
        "id": "rf7FT4T9pM7n"
      },
      "execution_count": null,
      "outputs": []
    },
    {
      "cell_type": "code",
      "source": [
        "# thể hiện sự tương quan của genre với các thuộc tính khác\n",
        "plt.figure(figsize=(12, 10))\n",
        "sns.heatmap(df.corr(), annot=True, cmap='coolwarm')\n",
        "plt.show()"
      ],
      "metadata": {
        "id": "s-ylGSvf0T9l"
      },
      "execution_count": null,
      "outputs": []
    },
    {
      "cell_type": "markdown",
      "source": [
        "# Mô Hình Học Máy"
      ],
      "metadata": {
        "id": "-IYxBv5jiWqj"
      }
    },
    {
      "cell_type": "markdown",
      "source": [
        "## Chuẩn Bị Dữ Liệu Cho Mô Hình"
      ],
      "metadata": {
        "id": "C0G4acvFivgD"
      }
    },
    {
      "cell_type": "code",
      "source": [
        "\n",
        "X = df.drop('playlist_genre', axis=1)\n",
        "y = df['playlist_genre']\n",
        "\n",
        "# Chia dữ liệu thành tập huấn luyện và tập kiểm tra\n",
        "X_train, X_test, y_train, y_test = train_test_split(X, y, test_size=0.2, random_state=42)\n"
      ],
      "metadata": {
        "id": "z19sDA1TQAGG"
      },
      "execution_count": null,
      "outputs": []
    },
    {
      "cell_type": "code",
      "source": [
        "# Chuẩn hóa dữ liệu nếu cần\n",
        "scaler = StandardScaler()\n",
        "X_train_scaled = scaler.fit_transform(X_train)\n",
        "X_test_scaled = scaler.transform(X_test)"
      ],
      "metadata": {
        "id": "tK1HzS6_L5Bc"
      },
      "execution_count": null,
      "outputs": []
    },
    {
      "cell_type": "markdown",
      "source": [
        "## Mô Hình RandomForest\n"
      ],
      "metadata": {
        "id": "hYWnNGrejLD5"
      }
    },
    {
      "cell_type": "code",
      "source": [
        "\n",
        "# Tạo mô hình RandomForestClassifier với số lượng cây là 100\n",
        "RF_model = RandomForestClassifier(n_estimators=100, random_state=42)\n",
        "\n",
        "# Huấn luyện mô hình trên tập huấn luyện\n",
        "RF_model.fit(X_train_scaled, y_train)\n",
        "\n",
        "# Dự đoán trên tập kiểm tra\n",
        "y_pred = RF_model.predict(X_test_scaled)\n",
        "\n",
        "# Đánh giá mô hình\n",
        "accuracy = accuracy_score(y_test, y_pred)\n",
        "conf_matrix = confusion_matrix(y_test, y_pred)\n",
        "\n",
        "print(f'Random Forest Accuracy: {accuracy}')\n",
        "print(f'Random Forest Confusion Matrix:\\n{conf_matrix}')\n",
        "print(classification_report(y_test, y_pred))"
      ],
      "metadata": {
        "id": "vcYAEx5pQhxZ"
      },
      "execution_count": null,
      "outputs": []
    },
    {
      "cell_type": "code",
      "source": [
        "label_encoder = LabelEncoder()\n",
        "y_encoded = label_encoder.fit_transform(y)\n",
        "# Get the confusion matrix\n",
        "conf_matrix = confusion_matrix(y_test, y_pred)\n",
        "\n",
        "# Plot the confusion matrix\n",
        "plt.figure(figsize=(10, 8))\n",
        "sns.heatmap(conf_matrix, annot=True, fmt='d', cmap='Blues', xticklabels=label_encoder.classes_, yticklabels=label_encoder.classes_)\n",
        "plt.xlabel('Predicted')\n",
        "plt.ylabel('Actual')\n",
        "plt.title('Confusion Matrix')\n",
        "plt.show()"
      ],
      "metadata": {
        "id": "omz7Ox9Wme3V"
      },
      "execution_count": null,
      "outputs": []
    },
    {
      "cell_type": "markdown",
      "source": [
        "## Mô Hình Decision Tree"
      ],
      "metadata": {
        "id": "s4XT__9GjUCq"
      }
    },
    {
      "cell_type": "code",
      "source": [
        "# Xây dựng và huấn luyện mô hình Decision Tree\n",
        "dt_model = DecisionTreeClassifier()\n",
        "dt_model.fit(X_train, y_train)\n",
        "dt_pred = dt_model.predict(X_test)\n",
        "\n",
        "# Đánh giá mô hình Decision Tree\n",
        "dt_accuracy = accuracy_score(y_test, dt_pred)\n",
        "dt_conf_matrix = confusion_matrix(y_test, dt_pred)\n",
        "\n",
        "print(f'Decision Tree Accuracy: {dt_accuracy}')\n",
        "print(f'Decision Tree Confusion Matrix:\\n{dt_conf_matrix}')"
      ],
      "metadata": {
        "id": "YUzhWaCviP5w"
      },
      "execution_count": null,
      "outputs": []
    },
    {
      "cell_type": "markdown",
      "source": [
        "## Mô Hình Gradient Boosting"
      ],
      "metadata": {
        "id": "f_3JNN34jYf2"
      }
    },
    {
      "cell_type": "code",
      "source": [
        "# Huấn luyện mô hình Gradient Boosting\n",
        "gb_model = GradientBoostingClassifier()\n",
        "gb_model.fit(X_train, y_train)\n",
        "gb_pred = gb_model.predict(X_test)\n",
        "\n",
        "gb_accuracy = accuracy_score(y_test, gb_pred)\n",
        "gb_conf_matrix = confusion_matrix(y_test, gb_pred)\n",
        "\n",
        "print(f'Gradient Boosting Accuracy: {gb_accuracy}')\n",
        "print(f'Gradient Boosting Confusion Matrix:\\n{gb_conf_matrix}')"
      ],
      "metadata": {
        "id": "IleEby6ulF5j"
      },
      "execution_count": null,
      "outputs": []
    },
    {
      "cell_type": "markdown",
      "source": [
        "## Mô Hình Logistic Regression"
      ],
      "metadata": {
        "id": "7Dh90_TejgEN"
      }
    },
    {
      "cell_type": "code",
      "source": [
        "# Huấn luyện mô hình Logistic Regression\n",
        "logistic_model = LogisticRegression(random_state=42, max_iter=1000)\n",
        "logistic_model.fit(X_train_scaled, y_train)\n",
        "\n",
        "# Dự đoán với mô hình Logistic Regression\n",
        "logistic_pred = logistic_model.predict(X_test_scaled)\n",
        "\n",
        "# Đánh giá mô hình Logistic Regression\n",
        "logistic_accuracy = accuracy_score(y_test, logistic_pred)\n",
        "logistic_conf_matrix = confusion_matrix(y_test, logistic_pred)\n",
        "\n",
        "print(f'Logistic Regression Accuracy: {logistic_accuracy}')\n",
        "print(f'Logistic Regression Confusion Matrix:\\n{logistic_conf_matrix}')"
      ],
      "metadata": {
        "id": "r4dXqKyaPoLB"
      },
      "execution_count": null,
      "outputs": []
    },
    {
      "cell_type": "markdown",
      "source": [
        "## So Sánh hiệu suất giữa các mô hình"
      ],
      "metadata": {
        "id": "ZhEynCQWlQiD"
      }
    },
    {
      "cell_type": "code",
      "source": [
        "# Độ chính xác của từng mô hình\n",
        "accuracy_scores = [gb_accuracy, dt_accuracy, accuracy,logistic_accuracy]\n",
        "\n",
        "# Tên của từng mô hình\n",
        "model_names = ['Gradient Boosting', 'Decision Tree', 'Random Forest','Logistic Regression']\n",
        "\n",
        "# Vẽ biểu đồ cột\n",
        "plt.bar(model_names, accuracy_scores, color=['blue', 'green', 'orange','red'])\n",
        "plt.xlabel('Mô hình')\n",
        "plt.ylabel('Độ chính xác')\n",
        "plt.title('So sánh độ chính xác của các mô hình')\n",
        "plt.ylim(0, 1)  # Điều chỉnh phạm vi trục y nếu cần thiết\n",
        "plt.show()\n"
      ],
      "metadata": {
        "id": "afNT0_oHpOxx"
      },
      "execution_count": null,
      "outputs": []
    },
    {
      "cell_type": "markdown",
      "source": [
        "## Tối Ưu Hiệu suất"
      ],
      "metadata": {
        "id": "TINzkVKvM62B"
      }
    },
    {
      "cell_type": "markdown",
      "source": [
        "### Tối ưu RandomForest"
      ],
      "metadata": {
        "id": "VHGdRg8PNE6_"
      }
    },
    {
      "cell_type": "code",
      "source": [
        "# Định nghĩa các giá trị cần thử nghiệm\n",
        "param_grid = {\n",
        "    'n_estimators': [50, 100, 150],\n",
        "    'max_depth': [None, 10, 20, 30]\n",
        "}\n",
        "\n",
        "# Tạo mô hình Random Forest\n",
        "rf_model = RandomForestClassifier(random_state=42)\n",
        "\n",
        "# Tạo đối tượng GridSearchCV\n",
        "grid_search = GridSearchCV(estimator=rf_model, param_grid=param_grid, cv=3, scoring='accuracy')\n",
        "\n",
        "# Tiến hành tìm kiếm trên tập huấn luyện\n",
        "grid_search.fit(X_train_scaled, y_train)\n",
        "\n",
        "# Lấy ra các tham số tối ưu\n",
        "best_params = grid_search.best_params_\n",
        "\n",
        "# In ra tham số tối ưu\n",
        "print(\"Best Parameters:\", best_params)"
      ],
      "metadata": {
        "id": "m6WaxEKtNeLD"
      },
      "execution_count": null,
      "outputs": []
    },
    {
      "cell_type": "code",
      "source": [
        "# Sử dụng tham số tối ưu từ GridSearch\n",
        "best_n_estimators = best_params['n_estimators']\n",
        "best_max_depth = best_params['max_depth']\n",
        "\n",
        "# Tạo mô hình Random Forest với tham số tối ưu\n",
        "optimal_RF_model = RandomForestClassifier(n_estimators=best_n_estimators, max_depth=best_max_depth, random_state=42)\n",
        "\n",
        "# Huấn luyện lại mô hình trên tập huấn luyện\n",
        "optimal_RF_model.fit(X_train_scaled, y_train)\n",
        "\n",
        "# Dự đoán trên tập kiểm tra\n",
        "y_pred_optimal = optimal_RF_model.predict(X_test_scaled)\n",
        "\n",
        "# Đánh giá mô hình với tham số tối ưu\n",
        "accuracy_optimal = accuracy_score(y_test, y_pred_optimal)\n",
        "conf_matrix_optimal = confusion_matrix(y_test, y_pred_optimal)\n",
        "\n",
        "# In kết quả\n",
        "print(f'Optimal Random Forest Accuracy: {accuracy_optimal}')\n",
        "print(f'Optimal Random Forest Confusion Matrix:\\n{conf_matrix_optimal}')\n",
        "print(classification_report(y_test, y_pred_optimal))\n"
      ],
      "metadata": {
        "id": "F8v6EaaWAZH0"
      },
      "execution_count": null,
      "outputs": []
    },
    {
      "cell_type": "markdown",
      "source": [
        "### Tối ưu Decision Tree\n",
        "\n"
      ],
      "metadata": {
        "id": "39ppmh2kS1_Q"
      }
    },
    {
      "cell_type": "code",
      "source": [
        "# Định nghĩa các giá trị cần thử nghiệm\n",
        "param_grid = {\n",
        "    'max_depth': [None, 10, 20, 30],\n",
        "    'min_samples_split': [2, 5, 10],\n",
        "    'min_samples_leaf': [1, 2, 4],\n",
        "    'max_features': ['auto', 'sqrt', 'log2']\n",
        "}\n",
        "\n",
        "# Tạo mô hình Decision Tree\n",
        "dt_model = DecisionTreeClassifier()\n",
        "\n",
        "# Sử dụng GridSearchCV để tìm siêu tham số tối ưu\n",
        "grid_search = GridSearchCV(dt_model, param_grid, cv=5, scoring='accuracy')\n",
        "grid_search.fit(X_train, y_train)\n",
        "\n",
        "# In ra các giá trị tối ưu\n",
        "print(\"Best Parameters:\", grid_search.best_params_)\n",
        "\n",
        "# Huấn luyện mô hình với các giá trị tối ưu\n",
        "optimal_dt_model = grid_search.best_estimator_\n",
        "optimal_dt_model.fit(X_train, y_train)\n",
        "\n",
        "# Dự đoán trên tập kiểm tra\n",
        "optimal_dt_pred = optimal_dt_model.predict(X_test)\n",
        "\n",
        "# Đánh giá mô hình Decision Tree tối ưu\n",
        "optimal_dt_accuracy = accuracy_score(y_test, optimal_dt_pred)\n",
        "optimal_dt_conf_matrix = confusion_matrix(y_test, optimal_dt_pred)\n",
        "\n",
        "print(f'Optimal Decision Tree Accuracy: {optimal_dt_accuracy}')\n",
        "print(f'Optimal Decision Tree Confusion Matrix:\\n{optimal_dt_conf_matrix}')"
      ],
      "metadata": {
        "id": "ArnZSPC5TC3f"
      },
      "execution_count": null,
      "outputs": []
    },
    {
      "cell_type": "markdown",
      "source": [
        "### Tối ưu Gradient Boosting"
      ],
      "metadata": {
        "id": "KIiFF7QpVaat"
      }
    },
    {
      "cell_type": "code",
      "source": [
        "aram_grid_gb = {\n",
        "    'n_estimators': [50],\n",
        "    'learning_rate': [0.01],\n",
        "    'max_depth': [3],\n",
        "    'min_samples_split': [2],\n",
        "    'min_samples_leaf': [1],\n",
        "}\n",
        "\n",
        "# Tạo mô hình Gradient Boosting\n",
        "gb_model = GradientBoostingClassifier()\n",
        "\n",
        "# Sử dụng GridSearchCV để tìm siêu tham số tối ưu\n",
        "grid_search_gb = GridSearchCV(gb_model, param_grid_gb, cv=5, scoring='accuracy')\n",
        "grid_search_gb.fit(X_train, y_train)\n",
        "\n",
        "# In ra các giá trị tối ưu\n",
        "print(\"Best Parameters for Gradient Boosting:\", grid_search_gb.best_params_)\n",
        "\n",
        "# Huấn luyện mô hình với các giá trị tối ưu\n",
        "optimal_gb_model = grid_search_gb.best_estimator_\n",
        "optimal_gb_model.fit(X_train, y_train)\n",
        "\n",
        "# Dự đoán trên tập kiểm tra\n",
        "optimal_gb_pred = optimal_gb_model.predict(X_test)\n",
        "\n",
        "# Đánh giá mô hình Gradient Boosting tối ưu\n",
        "optimal_gb_accuracy = accuracy_score(y_test, optimal_gb_pred)\n",
        "optimal_gb_conf_matrix = confusion_matrix(y_test, optimal_gb_pred)\n",
        "\n",
        "print(f'Optimal Gradient Boosting Accuracy: {optimal_gb_accuracy}')\n",
        "print(f'Optimal Gradient Boosting Confusion Matrix:\\n{optimal_gb_conf_matrix}')"
      ],
      "metadata": {
        "id": "GZetwX5RMiax"
      },
      "execution_count": null,
      "outputs": []
    },
    {
      "cell_type": "markdown",
      "source": [
        "### Tối ưu logistic Regression\n"
      ],
      "metadata": {
        "id": "wLX95iu_WDk8"
      }
    },
    {
      "cell_type": "code",
      "source": [
        "\n",
        "from sklearn.linear_model import LogisticRegression\n",
        "from sklearn.model_selection import GridSearchCV\n",
        "\n",
        "# Định nghĩa mô hình Logistic Regression\n",
        "logistic_model = LogisticRegression(random_state=42, max_iter=1000)\n",
        "\n",
        "# Đặt các giá trị để thử nghiệm\n",
        "param_grid = {'C': [0.001, 0.01, 0.1, 1, 10, 100], 'penalty': ['l1', 'l2']}\n",
        "\n",
        "# Sử dụng Grid Search để tìm kiếm giá trị tốt nhất cho các tham số\n",
        "grid_search = GridSearchCV(logistic_model, param_grid, cv=5, scoring='accuracy')\n",
        "grid_search.fit(X_train_scaled, y_train)\n",
        "\n",
        "# In ra giá trị tốt nhất và tham số tương ứng\n",
        "print(\"Best Parameters:\", grid_search.best_params_)\n",
        "\n",
        "# Dự đoán với mô hình đã được tối ưu hóa\n",
        "logistic_optimized_model = grid_search.best_estimator_\n",
        "logistic_optimized_pred = logistic_optimized_model.predict(X_test_scaled)\n",
        "\n",
        "# Đánh giá mô hình đã được tối ưu hóa\n",
        "logistic_optimized_accuracy = accuracy_score(y_test, logistic_optimized_pred)\n",
        "logistic_optimized_conf_matrix = confusion_matrix(y_test, logistic_optimized_pred)\n",
        "\n",
        "print(f'Optimized Logistic Regression Accuracy: {logistic_optimized_accuracy}')\n",
        "print(f'Optimized Logistic Regression Confusion Matrix:\\n{logistic_optimized_conf_matrix}')\n"
      ],
      "metadata": {
        "id": "W63BakE2W7FV"
      },
      "execution_count": null,
      "outputs": []
    },
    {
      "cell_type": "code",
      "source": [
        "# Các giá trị hiệu suất của các mô hình\n",
        "accuracies = [accuracy_optimal, optimal_dt_accuracy, optimal_gb_accuracy, logistic_optimized_accuracy]\n",
        "models = ['Random Forest', 'Decision Tree', 'Gradient Boosting', 'Logistic Regression']\n",
        "\n",
        "# Vẽ bar chart\n",
        "plt.figure(figsize=(10, 6))\n",
        "plt.bar(models, accuracies, color=['blue', 'orange', 'green', 'red'])\n",
        "plt.ylim(0, 1)  # Đặt giới hạn trục y từ 0 đến 1 cho phù hợp với tỷ lệ độ chính xác\n",
        "plt.title('Comparison of Model Performances')\n",
        "plt.xlabel('Models')\n",
        "plt.ylabel('Accuracy')\n",
        "plt.show()"
      ],
      "metadata": {
        "id": "duzEapNLuSwe"
      },
      "execution_count": null,
      "outputs": []
    }
  ]
}