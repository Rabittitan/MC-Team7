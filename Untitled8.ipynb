{
  "nbformat": 4,
  "nbformat_minor": 0,
  "metadata": {
    "colab": {
      "private_outputs": true,
      "provenance": [],
      "cell_execution_strategy": "setup",
      "mount_file_id": "1Dc7FLyjuJEdgqhJ1ymuOZGrw52lFYWTf",
      "authorship_tag": "ABX9TyPrEew4br3xGFlEHy0ob9VS",
      "include_colab_link": true
    },
    "kernelspec": {
      "name": "python3",
      "display_name": "Python 3"
    },
    "language_info": {
      "name": "python"
    }
  },
  "cells": [
    {
      "cell_type": "markdown",
      "metadata": {
        "id": "view-in-github",
        "colab_type": "text"
      },
      "source": [
        "<a href=\"https://colab.research.google.com/github/Rabittitan/MC-Team7/blob/main/Untitled8.ipynb\" target=\"_parent\"><img src=\"https://colab.research.google.com/assets/colab-badge.svg\" alt=\"Open In Colab\"/></a>"
      ]
    },
    {
      "cell_type": "code",
      "execution_count": null,
      "metadata": {
        "id": "yOkX3YUll0rS"
      },
      "outputs": [],
      "source": [
        "%matplotlib inline\n",
        "#Visualization Libraries\n",
        "import matplotlib.pyplot as plt\n",
        "import seaborn as sns\n",
        "\n",
        "#Data processing Libraries\n",
        "import numpy as np\n",
        "import pandas as pd\n",
        "from sklearn.model_selection import train_test_split\n",
        "from sklearn.preprocessing import LabelEncoder\n",
        "\n",
        "\n",
        "from sklearn.preprocessing import StandardScaler\n",
        "# 10000, 1, 100\n",
        "\n",
        "from sklearn.tree import DecisionTreeClassifier,plot_tree\n",
        "from sklearn.metrics import accuracy_score, confusion_matrix\n"
      ]
    },
    {
      "cell_type": "code",
      "source": [
        "df = pd.read_csv(\"/content/spotify_songs.csv\")\n",
        "df.head()"
      ],
      "metadata": {
        "id": "u3WJ1AEeoBW5"
      },
      "execution_count": null,
      "outputs": []
    },
    {
      "cell_type": "code",
      "source": [
        "df.info()"
      ],
      "metadata": {
        "id": "03TfzrmLvxTs"
      },
      "execution_count": null,
      "outputs": []
    },
    {
      "cell_type": "code",
      "source": [
        "df.describe()"
      ],
      "metadata": {
        "id": "X4ZAMb7qv0BH"
      },
      "execution_count": null,
      "outputs": []
    },
    {
      "cell_type": "code",
      "source": [
        "df.isnull().sum()"
      ],
      "metadata": {
        "id": "gDyAzr8Iv1bV"
      },
      "execution_count": null,
      "outputs": []
    },
    {
      "cell_type": "code",
      "source": [
        "#xu ly du lieu null\n",
        "df_cleaned = df.dropna()\n",
        "\n",
        "print(df_cleaned.isnull().sum())"
      ],
      "metadata": {
        "id": "tMwGFgJ_v3sP"
      },
      "execution_count": null,
      "outputs": []
    },
    {
      "cell_type": "code",
      "source": [
        "# Xóa các cột cụ thể trực tiếp trên df\n",
        "# columns_to_drop = ['track_id', 'track_name', 'track_artist', 'track_popularity', 'track_album_id', 'track_album_name', 'track_album_release_date', 'playlist_id']\n",
        "# df.drop(columns=columns_to_drop, axis=1, inplace=True)\n",
        "\n",
        "# Kiểm tra lại dữ liệu sau khi xóa các cột\n",
        "print(df.head())\n"
      ],
      "metadata": {
        "id": "wi9Bd-Jii-Fy"
      },
      "execution_count": null,
      "outputs": []
    },
    {
      "cell_type": "code",
      "source": [
        "\n",
        "import seaborn as sns\n",
        "import matplotlib.pyplot as plt\n",
        "\n",
        "plt.figure(figsize=(12, 6))\n",
        "sns.countplot(x='playlist_genre', data=df)\n",
        "plt.title('Phân phối số lượng bài hát theo Thể loại Nhạc')\n",
        "plt.xlabel('Playlist Genre')\n",
        "plt.ylabel('Số lượng bài hát')\n",
        "plt.show()"
      ],
      "metadata": {
        "id": "Wp4wcUvTlqEk"
      },
      "execution_count": null,
      "outputs": []
    },
    {
      "cell_type": "code",
      "source": [
        "df['playlist_genre'].value_counts()"
      ],
      "metadata": {
        "id": "v1j5s0B5tEm6"
      },
      "execution_count": null,
      "outputs": []
    },
    {
      "cell_type": "code",
      "source": [
        "# Định nghĩa mapping giữa chuỗi và số\n",
        "genre_mapping = {'pop': 0, 'rap': 1, 'rock': 2, 'latin': 3, 'r&b': 4, 'edm': 5}\n",
        "\n",
        "# Áp dụng map cho cột 'playlist_genre'\n",
        "df['playlist_genre'] = df['playlist_genre'].map(genre_mapping)\n",
        "\n",
        "# Kiểm tra lại kiểu dữ liệu\n",
        "print(df['playlist_genre'].dtype)\n"
      ],
      "metadata": {
        "id": "CwUd2B12QW3X"
      },
      "execution_count": null,
      "outputs": []
    },
    {
      "cell_type": "code",
      "source": [
        "X = df.drop('playlist_genre', axis=1)\n",
        "y = df['playlist_genre']"
      ],
      "metadata": {
        "id": "z19sDA1TQAGG"
      },
      "execution_count": null,
      "outputs": []
    },
    {
      "cell_type": "markdown",
      "source": [],
      "metadata": {
        "id": "90LW5rzrOIgW"
      }
    },
    {
      "cell_type": "code",
      "source": [
        "\n",
        "# Chia thành tập huấn luyện và tập kiểm tra\n",
        "X_train, X_test, y_train, y_test = train_test_split(X, y, test_size=0.2, random_state=42)\n",
        "\n",
        "\n",
        "# Khởi tạo mô hình hồi quy tuyến tính\n",
        "linear_reg_model = LinearRegression()\n",
        "\n",
        "linear_reg_model.fit(X_train, y_train)"
      ],
      "metadata": {
        "id": "j5JFD0BWHGr1"
      },
      "execution_count": null,
      "outputs": []
    },
    {
      "cell_type": "markdown",
      "source": [],
      "metadata": {
        "id": "DKXYBFMkRh9D"
      }
    },
    {
      "cell_type": "code",
      "source": [
        "\n",
        "y_pred = linear_reg_model.predict(X_test)\n",
        "\n",
        "# Đánh giá mô hình\n",
        "mse = mean_squared_error(y_test, y_pred)\n",
        "print(f\"Mean Squared Error on Test Set: {mse}\")"
      ],
      "metadata": {
        "id": "7IDmDOseP-0E"
      },
      "execution_count": null,
      "outputs": []
    },
    {
      "cell_type": "code",
      "source": [
        "# In các hệ số của mô hình\n",
        "print(\"Coefficients:\", linear_reg_model.coef_)\n",
        "\n",
        "# In hệ số chặn (intercept)\n",
        "print(\"Intercept:\", linear_reg_model.intercept_)"
      ],
      "metadata": {
        "id": "48bcHvEjQw2g"
      },
      "execution_count": null,
      "outputs": []
    },
    {
      "cell_type": "code",
      "source": [
        "from sklearn.neighbors import KNeighborsRegressor\n",
        "X_train, X_test, y_train, y_test = train_test_split(X, y, test_size=0.2, random_state=42)\n",
        "\n",
        "# Define the KNN regressor model\n",
        "knn_regressor = KNeighborsRegressor(n_neighbors=3)\n",
        "knn_regressor.fit(X_train, y_train)\n",
        "\n",
        "# Make predictions on the test data\n",
        "y_pred = knn_regressor.predict(X_test)\n",
        "\n",
        "# Evaluate the model\n",
        "mse = mean_squared_error(y_test, y_pred)\n",
        "\n",
        "print(f\"Mean Squared Error: {mse}\")"
      ],
      "metadata": {
        "id": "4aznP81kYEKV"
      },
      "execution_count": null,
      "outputs": []
    },
    {
      "cell_type": "code",
      "source": [
        "# from sklearn.preprocessing import MinMaxScaler\n",
        "\n",
        "# # Xác định mục tiêu cần chuẩn hóa\n",
        "# y = df['playlist_genre']\n",
        "\n",
        "# # Khởi tạo MinMaxScaler\n",
        "# scaler = MinMaxScaler()\n",
        "\n",
        "# # Chuẩn hóa mục tiêu\n",
        "# y_scaled = scaler.fit_transform(y.values.reshape(-1, 1))\n",
        "\n",
        "# # Đưa mục tiêu đã được chuẩn hóa vào DataFrame\n",
        "# df['playlist_genre'] = y_scaled\n"
      ],
      "metadata": {
        "id": "jI46zumZTGg0"
      },
      "execution_count": null,
      "outputs": []
    },
    {
      "cell_type": "code",
      "source": [
        "# from sklearn.model_selection import GridSearchCV\n",
        "# from sklearn.linear_model import LinearRegression\n",
        "# from sklearn.model_selection import train_test_split\n",
        "# from sklearn.metrics import mean_squared_error\n",
        "\n",
        "# # Đặt playlist_genre vào X\n",
        "# X = df.drop('playlist_genre', axis=1)\n",
        "# y = df['playlist_genre']\n",
        "\n",
        "# # Chia thành tập huấn luyện và tập kiểm tra\n",
        "# X_train, X_test, y_train, y_test = train_test_split(X, y, test_size=0.2, random_state=42)\n",
        "\n",
        "# # Định nghĩa phạm vi của các giá trị siêu tham số\n",
        "# param_grid = {'fit_intercept': [True, False]}\n",
        "\n",
        "# # Khởi tạo mô hình hồi quy tuyến tính\n",
        "# linear_reg_model = LinearRegression()\n",
        "\n",
        "# # Khởi tạo GridSearchCV\n",
        "# grid_search = GridSearchCV(linear_reg_model, param_grid, cv=5, scoring='neg_mean_squared_error', n_jobs=-1)\n",
        "\n",
        "# # Thực hiện tinh chỉnh\n",
        "# grid_search.fit(X_train, y_train)\n",
        "\n",
        "# # Lấy ra bộ siêu tham số tốt nhất\n",
        "# best_params = grid_search.best_params_\n",
        "\n",
        "# # Lấy ra mô hình tốt nhất\n",
        "# best_model = grid_search.best_estimator_\n",
        "\n",
        "# # Dự đoán trên tập kiểm tra\n",
        "# y_pred = best_model.predict(X_test)\n",
        "\n",
        "# # Đánh giá mô hình\n",
        "# mse = mean_squared_error(y_test, y_pred)\n",
        "# print(f\"Mean Squared Error on Test Set: {mse}\")\n"
      ],
      "metadata": {
        "id": "7zaHJmjwRi2_"
      },
      "execution_count": null,
      "outputs": []
    }
  ]
}